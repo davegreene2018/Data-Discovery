{
 "cells": [
  {
   "cell_type": "code",
   "execution_count": 22,
   "id": "handmade-despite",
   "metadata": {},
   "outputs": [],
   "source": [
    "# import required libraries\n",
    "import pandas as pd\n",
    "import numpy as np\n",
    "\n",
    "from sklearn.model_selection import train_test_split, cross_val_score\n",
    "\n",
    "from sklearn.metrics import mean_squared_error, r2_score\n",
    "from sklearn.linear_model import LogisticRegression\n",
    "\n",
    "\n",
    "# Import seeds dataset\n",
    "df = pd.read_table('datasets/seeds_dataset.txt', sep=\"\\t\")\n",
    "\n",
    "# set the column names\n",
    "df.columns = [\"area\", \"parimeter\", \"compactness\", \"length_of_kernal\", \"width_of_kernal\", \"asymmetry\", \n",
    "                \"length_of_kernel_groove\", \"type\"]\n",
    "\n",
    "# check the number of nan values in each column\n",
    "df.isnull().sum(axis = 0)\n",
    "\n",
    "# compactness contains one nan value\n",
    "df['compactness'] = df['compactness'].fillna(0)\n",
    "\n",
    "# set the input variables\n",
    "x = df[['area', 'length_of_kernal','width_of_kernal', 'asymmetry', 'length_of_kernel_groove']]\n",
    "\n",
    "# target value\n",
    "y = df['type']\n",
    "\n",
    "# create train, test and split\n",
    "X_train, X_test, Y_train, Y_test = train_test_split(x, y, test_size=.5, random_state=5)"
   ]
  },
  {
   "cell_type": "code",
   "execution_count": 23,
   "id": "identical-drilling",
   "metadata": {},
   "outputs": [
    {
     "name": "stdout",
     "output_type": "stream",
     "text": [
      "(209, 5)\n"
     ]
    }
   ],
   "source": [
    "print(x.shape)"
   ]
  },
  {
   "cell_type": "markdown",
   "id": "restricted-moscow",
   "metadata": {},
   "source": [
    "## Logistic regression"
   ]
  },
  {
   "cell_type": "code",
   "execution_count": 24,
   "id": "forced-yield",
   "metadata": {},
   "outputs": [
    {
     "name": "stdout",
     "output_type": "stream",
     "text": [
      "type                       1.000000\n",
      "asymmetry                  0.574895\n",
      "length_of_kernel_groove    0.022141\n",
      "compactness               -0.112903\n",
      "parimeter                 -0.129415\n",
      "length_of_kernal          -0.256465\n",
      "area                      -0.346487\n",
      "width_of_kernal           -0.424178\n",
      "Name: type, dtype: float64\n",
      "\n",
      "rmse =  0.4879500364742666\n",
      "r2  0.674962852897474\n",
      "accuracy =  0.9047619047619048\n",
      "The predicted type is  [2]\n",
      "The predicted type is  [3]\n"
     ]
    }
   ],
   "source": [
    "# build corralation matrix to check the corralation of each of the inputs\n",
    "corr_matrix = df.corr()\n",
    "\n",
    "#print our correlation matrix\n",
    "print(corr_matrix[\"type\"].sort_values(ascending = False))\n",
    "\n",
    "\n",
    "# Create logistic regression model and fit X_train and Y_train\n",
    "model = LogisticRegression(max_iter=100000)\n",
    "model.fit(X_train, Y_train)\n",
    "\n",
    "# predict target value\n",
    "Y_Pred = model.predict(X_test)\n",
    "\n",
    "# Root Mean Squared Error and r2 score for the model\n",
    "rmse = np.sqrt(mean_squared_error(Y_test,Y_Pred))\n",
    "r2 = r2_score(Y_test,Y_Pred)\n",
    "print()\n",
    "print ('rmse = ', rmse)\n",
    "print ('r2 ', r2)\n",
    "\n",
    "# print the accuracy of our model\n",
    "score = model.score(X_test, Y_test)\n",
    "print(\"accuracy = \", score)\n",
    "\n",
    "# predict the type with the values for area, length_of_kernal, width_of_kernal, asymmetry, length_of_kernel_groove\n",
    "predictedType = model.predict([[19.3, 6.3, 3.8 , 3.4, 6.2]])\n",
    "predictedType2 = model.predict([[11.4, 5.1, 2.7 , 2.2, 5.2]])\n",
    "\n",
    "\n",
    "# type of seeds 1 = Kama, 2 = Rosa, 3 = Canadian\n",
    "print('The predicted type is ', predictedType)\n",
    "print('The predicted type is ', predictedType2)\n",
    "\n"
   ]
  },
  {
   "cell_type": "markdown",
   "id": "tutorial-lightweight",
   "metadata": {},
   "source": [
    "## SVM"
   ]
  },
  {
   "cell_type": "code",
   "execution_count": 25,
   "id": "recorded-disorder",
   "metadata": {},
   "outputs": [
    {
     "name": "stdout",
     "output_type": "stream",
     "text": [
      "0.9761904761904762\n"
     ]
    },
    {
     "data": {
      "text/html": [
       "<div>\n",
       "<style scoped>\n",
       "    .dataframe tbody tr th:only-of-type {\n",
       "        vertical-align: middle;\n",
       "    }\n",
       "\n",
       "    .dataframe tbody tr th {\n",
       "        vertical-align: top;\n",
       "    }\n",
       "\n",
       "    .dataframe thead th {\n",
       "        text-align: right;\n",
       "    }\n",
       "</style>\n",
       "<table border=\"1\" class=\"dataframe\">\n",
       "  <thead>\n",
       "    <tr style=\"text-align: right;\">\n",
       "      <th></th>\n",
       "      <th>0</th>\n",
       "      <th>1</th>\n",
       "      <th>2</th>\n",
       "    </tr>\n",
       "  </thead>\n",
       "  <tbody>\n",
       "    <tr>\n",
       "      <th>0</th>\n",
       "      <td>14</td>\n",
       "      <td>0</td>\n",
       "      <td>0</td>\n",
       "    </tr>\n",
       "    <tr>\n",
       "      <th>1</th>\n",
       "      <td>0</td>\n",
       "      <td>9</td>\n",
       "      <td>0</td>\n",
       "    </tr>\n",
       "    <tr>\n",
       "      <th>2</th>\n",
       "      <td>1</td>\n",
       "      <td>0</td>\n",
       "      <td>18</td>\n",
       "    </tr>\n",
       "  </tbody>\n",
       "</table>\n",
       "</div>"
      ],
      "text/plain": [
       "    0  1   2\n",
       "0  14  0   0\n",
       "1   0  9   0\n",
       "2   1  0  18"
      ]
     },
     "execution_count": 25,
     "metadata": {},
     "output_type": "execute_result"
    }
   ],
   "source": [
    "# import required libraries \n",
    "from sklearn.svm import LinearSVC\n",
    "from sklearn.metrics import confusion_matrix\n",
    "from sklearn.preprocessing import MinMaxScaler\n",
    "\n",
    "# Scale and transform our features between -1 & 1\n",
    "scaling = MinMaxScaler(feature_range=(-1,1)).fit(x_train)\n",
    "\n",
    "x_train = scaling.transform(x_train)\n",
    "x_test = scaling.transform(x_test)\n",
    "\n",
    "# create our svm model with Regularization, maximum-margin & maximun iteration\n",
    "svm = LinearSVC(C=100, loss='hinge', max_iter=100000)\n",
    "\n",
    "# fit the training data to the model\n",
    "svm.fit(x_train, y_train)\n",
    "\n",
    "# print the score of our model\n",
    "print(svm.score(x_test,y_test))\n",
    "\n",
    "#set the y_pred to our model.predict \n",
    "y_pred = svm.predict(x_test)\n",
    "\n",
    "# create a confusion matrix and pass i y_test and y_pred\n",
    "cm = pd.DataFrame(confusion_matrix(y_test, y_pred))\n",
    "\n",
    "# print the confusion matrix\n",
    "cm\n"
   ]
  },
  {
   "cell_type": "markdown",
   "id": "charitable-coaching",
   "metadata": {},
   "source": [
    "## KNN\n"
   ]
  },
  {
   "cell_type": "code",
   "execution_count": 29,
   "id": "behavioral-allergy",
   "metadata": {},
   "outputs": [
    {
     "name": "stdout",
     "output_type": "stream",
     "text": [
      "     type      seed\n",
      "0       1      Kama\n",
      "1       1      Kama\n",
      "2       1      Kama\n",
      "3       1      Kama\n",
      "4       1      Kama\n",
      "..    ...       ...\n",
      "204     3  Canadian\n",
      "205     3  Canadian\n",
      "206     3  Canadian\n",
      "207     3  Canadian\n",
      "208     3  Canadian\n",
      "\n",
      "[209 rows x 2 columns]\n",
      "Score 0.788261515601783\n"
     ]
    }
   ],
   "source": [
    "# import required libraries\n",
    "from sklearn.neighbors import KNeighborsRegressor, KNeighborsClassifier\n",
    "\n",
    "# set the target type\n",
    "y_df = pd.DataFrame(y, columns={\"type\"})\n",
    "\n",
    "# set the target values types\n",
    "y_df.loc[(y_df[\"type\"] == 1), \"seed\"] = \"Kama\"\n",
    "y_df.loc[(y_df[\"type\"] == 2), \"seed\"] = \"Rosa\"\n",
    "y_df.loc[(y_df[\"type\"] == 3), \"seed\"] = \"Canadian\"\n",
    "\n",
    "print(y_df)\n",
    "\n",
    "# create our KNN model with 7 Neighbors\n",
    "knn = KNeighborsRegressor(n_neighbors=7)\n",
    "\n",
    "# fit the training and test data to the model\n",
    "knn.fit(X_train, Y_train)\n",
    "\n",
    "# print the score of the KNN model\n",
    "score = knn.score(X_test, Y_test)\n",
    "print (\"Score\", score)\n",
    "\n"
   ]
  },
  {
   "cell_type": "markdown",
   "id": "after-bleeding",
   "metadata": {},
   "source": [
    "## ensemble"
   ]
  },
  {
   "cell_type": "code",
   "execution_count": 27,
   "id": "legal-upgrade",
   "metadata": {},
   "outputs": [
    {
     "name": "stdout",
     "output_type": "stream",
     "text": [
      "LinearRegression 0.6794590843495407\n",
      "KNeighborsRegressor 0.7675334323922733\n",
      "SVR 0.7944264457279198\n",
      "VotingRegressor 0.8064516023428128\n"
     ]
    }
   ],
   "source": [
    "# import required libraries\n",
    "from sklearn.linear_model import LinearRegression\n",
    "from sklearn.neighbors import KNeighborsRegressor\n",
    "from sklearn.svm import SVR\n",
    "from sklearn.ensemble import VotingRegressor\n",
    "\n",
    "# create linear, KNN and SVR models\n",
    "lin_reg = LinearRegression()\n",
    "knn_reg = KNeighborsRegressor(n_neighbors=5)\n",
    "svr_reg = SVR(C=10000)\n",
    "\n",
    "# create our voting regressor\n",
    "voting_reg = VotingRegressor(estimators=[('lr', lin_reg),('knn', knn_reg), ('svr', svr_reg)])\n",
    "\n",
    "# for each model fit the training data & compare the results\n",
    "for reg in (lin_reg, knn_reg, svr_reg, voting_reg):\n",
    "    reg.fit(X_train, Y_train)\n",
    "    Y_pred = reg.predict(X_test)\n",
    "    print(reg.__class__.__name__, r2_score(Y_test, Y_pred))"
   ]
  },
  {
   "cell_type": "markdown",
   "id": "technical-stranger",
   "metadata": {},
   "source": [
    "## Neural Network"
   ]
  },
  {
   "cell_type": "code",
   "execution_count": 3,
   "id": "induced-consolidation",
   "metadata": {},
   "outputs": [
    {
     "name": "stdout",
     "output_type": "stream",
     "text": [
      "              precision    recall  f1-score   support\n",
      "\n",
      "           1       1.00      0.93      0.96        14\n",
      "           2       1.00      1.00      1.00         9\n",
      "           3       0.95      1.00      0.97        19\n",
      "\n",
      "    accuracy                           0.98        42\n",
      "   macro avg       0.98      0.98      0.98        42\n",
      "weighted avg       0.98      0.98      0.98        42\n",
      "\n",
      "The predicted type is  [2]\n"
     ]
    }
   ],
   "source": [
    "# import required libraries\n",
    "import numpy as np\n",
    "import pandas as pd\n",
    "\n",
    "from sklearn.model_selection import train_test_split, cross_val_score\n",
    "from sklearn.neural_network import MLPClassifier\n",
    "from sklearn.preprocessing import StandardScaler, MinMaxScaler\n",
    "from sklearn.metrics import classification_report\n",
    "\n",
    "\n",
    "# Import seeds dataset\n",
    "df = pd.read_table('datasets/seeds_dataset.txt', sep=\"\\t\")\n",
    "\n",
    "# set the column names\n",
    "df.columns = [\"area\", \"parimeter\", \"compactness\", \"length_of_kernal\", \"width_of_kernal\", \"asymmetry\", \n",
    "                \"length_of_kernel_groove\", \"type\"]\n",
    "\n",
    "# check the number of nan values in each column\n",
    "df.isnull().sum(axis = 0)\n",
    "\n",
    "# compactness contains one nan value\n",
    "df['compactness'] = df['compactness'].fillna(0)\n",
    "\n",
    "# set the input variables\n",
    "x = df[['area', 'length_of_kernal','width_of_kernal', 'asymmetry', 'length_of_kernel_groove']]\n",
    "\n",
    "# target value\n",
    "y = df['type']\n",
    "\n",
    "# create train, test and split\n",
    "x_train, x_test, y_train, y_test = train_test_split(x,y,test_size=.2, random_state=32)\n",
    "\n",
    "# Scale and transorm x train and test data\n",
    "scaling = StandardScaler().fit(x_train)\n",
    "\n",
    "x_train = scaling.transform(x_train)\n",
    "x_test = scaling.transform(x_test)\n",
    "\n",
    "# create neural network model\n",
    "nn_class = MLPClassifier(max_iter=1000)\n",
    "\n",
    "# fit training data to the model\n",
    "nn_class.fit(x_train, y_train)\n",
    "\n",
    "# set y_pred to model.predict\n",
    "y_pred = nn_class.predict(x_test)\n",
    "\n",
    "# print classification report\n",
    "print(classification_report(y_test, y_pred))\n",
    "\n",
    "\n",
    "predicted = nn_class.predict([[11.4, 5.1, 2.7 , 2.2, 5.2]])\n",
    "# type of seeds 1 = Kama, 2 = Rosa, 3 = Canadian\n",
    "print('The predicted type is ', predicted)"
   ]
  },
  {
   "cell_type": "code",
   "execution_count": null,
   "id": "through-material",
   "metadata": {},
   "outputs": [],
   "source": []
  },
  {
   "cell_type": "code",
   "execution_count": null,
   "id": "pretty-boating",
   "metadata": {},
   "outputs": [],
   "source": []
  }
 ],
 "metadata": {
  "kernelspec": {
   "display_name": "MLEnv",
   "language": "python",
   "name": "mlenv"
  },
  "language_info": {
   "codemirror_mode": {
    "name": "ipython",
    "version": 3
   },
   "file_extension": ".py",
   "mimetype": "text/x-python",
   "name": "python",
   "nbconvert_exporter": "python",
   "pygments_lexer": "ipython3",
   "version": "3.7.10"
  }
 },
 "nbformat": 4,
 "nbformat_minor": 5
}
